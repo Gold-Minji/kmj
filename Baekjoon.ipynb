{
  "nbformat": 4,
  "nbformat_minor": 0,
  "metadata": {
    "colab": {
      "name": "Baekjoon.ipynb",
      "provenance": [],
      "authorship_tag": "ABX9TyMEiQuh6u2BDYcoLf3uJ4Dm",
      "include_colab_link": true
    },
    "kernelspec": {
      "display_name": "Python 3",
      "name": "python3"
    }
  },
  "cells": [
    {
      "cell_type": "markdown",
      "metadata": {
        "id": "view-in-github",
        "colab_type": "text"
      },
      "source": [
        "<a href=\"https://colab.research.google.com/github/Gold-Minji/kmj/blob/master/Baekjoon.ipynb\" target=\"_parent\"><img src=\"https://colab.research.google.com/assets/colab-badge.svg\" alt=\"Open In Colab\"/></a>"
      ]
    },
    {
      "cell_type": "code",
      "metadata": {
        "colab": {
          "base_uri": "https://localhost:8080/",
          "height": 135
        },
        "id": "dXUcL6zxOGjY",
        "outputId": "aeabf6db-f1ee-4da4-9a8b-c583360550c0"
      },
      "source": [
        "#baekjoon coding practicing\n",
        "#1110\n",
        "a=input()\n",
        "#a=list(map(int,a))\n",
        "b=0\n",
        "#while a==a:\n",
        "#  a=list(map(int,a))\n",
        "  print(a)\n",
        "  for i in range(len(a)):\n",
        "    b=b+a[i]\n",
        "    print(b)\n",
        "  b=str(b).zfill(2)\n",
        "  print(type(a[1]))\n",
        "b=list(map(int,b))\n",
        "a = [a[1],b[1]]\n",
        "  \n",
        "print(a)\n",
        "#Result is cannot printed like this wat!!!Fuck!!!"
      ],
      "execution_count": null,
      "outputs": [
        {
          "output_type": "error",
          "ename": "IndentationError",
          "evalue": "ignored",
          "traceback": [
            "\u001b[0;36m  File \u001b[0;32m\"<ipython-input-88-425a68e21f8d>\"\u001b[0;36m, line \u001b[0;32m8\u001b[0m\n\u001b[0;31m    print(a)\u001b[0m\n\u001b[0m    ^\u001b[0m\n\u001b[0;31mIndentationError\u001b[0m\u001b[0;31m:\u001b[0m unexpected indent\n"
          ]
        }
      ]
    },
    {
      "cell_type": "code",
      "metadata": {
        "colab": {
          "base_uri": "https://localhost:8080/"
        },
        "id": "CKp1GWwbX-tQ",
        "outputId": "8aa7a8c8-510b-41b3-df9f-0b473cc03338"
      },
      "source": [
        "a=int(input())\n",
        "num = a\n",
        "count=1\n",
        "while True:\n",
        "  b=int(num//10)+int(num%10)\n",
        "  num=((num%10)*10)+(b%10)\n",
        "  if a==num:\n",
        "    print(count)\n",
        "    break\n",
        "  else:\n",
        "     count+=1"
      ],
      "execution_count": null,
      "outputs": [
        {
          "output_type": "stream",
          "text": [
            "26\n",
            "4\n"
          ],
          "name": "stdout"
        }
      ]
    },
    {
      "cell_type": "code",
      "metadata": {
        "colab": {
          "base_uri": "https://localhost:8080/"
        },
        "id": "cUDrJMjzHY5V",
        "outputId": "ba16ae22-4b0d-4fc0-90f5-bf565253e311"
      },
      "source": [
        "#a=len(list(input()))\n",
        "b=int(input())\n",
        "a=input().split()\n",
        "a=list(map(int,a))\n",
        "a.sort()\n",
        "print(a[0],a[-1])\n",
        "#for i in range(len(a)):\n",
        "#  print(a[i])"
      ],
      "execution_count": null,
      "outputs": [
        {
          "output_type": "stream",
          "text": [
            "20 10 35 30 7\n",
            "7 35\n"
          ],
          "name": "stdout"
        }
      ]
    },
    {
      "cell_type": "code",
      "metadata": {
        "colab": {
          "base_uri": "https://localhost:8080/"
        },
        "id": "BVBE1agqJa2d",
        "outputId": "b831d656-3c85-4efd-ff25-dc6df02ecb2e"
      },
      "source": [
        "#this is compare just right beyond number\n",
        "a=int(input())\n",
        "count=1\n",
        "for i in range(1,9):\n",
        "  b=int(input())\n",
        "  count+=1\n",
        "  if a<b:\n",
        "    a=b\n",
        "    c=count\n",
        "print(\"B:\",a,\"#: \",c)\n"
      ],
      "execution_count": null,
      "outputs": [
        {
          "output_type": "stream",
          "text": [
            "12\n",
            "74\n",
            "44\n",
            "3\n",
            "0\n",
            "7\n",
            "678\n",
            "57\n",
            "5\n",
            "B: 678 #:  7\n"
          ],
          "name": "stdout"
        }
      ]
    },
    {
      "cell_type": "code",
      "metadata": {
        "colab": {
          "base_uri": "https://localhost:8080/"
        },
        "id": "uerVud8gMef9",
        "outputId": "87390722-d468-4471-be68-01a5f30587f9"
      },
      "source": [
        "a=list()\n",
        "for i in range(9):\n",
        "  a.append(int(input()))\n",
        "print(max(a))\n",
        "print(a.index(max(a))+1)"
      ],
      "execution_count": null,
      "outputs": [
        {
          "output_type": "stream",
          "text": [
            "3\n",
            "29\n",
            "38\n",
            "12\n",
            "57\n",
            "74\n",
            "40\n",
            "85\n",
            "61\n",
            "85\n",
            "8\n"
          ],
          "name": "stdout"
        }
      ]
    },
    {
      "cell_type": "code",
      "metadata": {
        "id": "vnnMzPkZTpyx",
        "colab": {
          "base_uri": "https://localhost:8080/"
        },
        "outputId": "9cd1754d-f5c7-4e58-c4bd-8f8dacfc052d"
      },
      "source": [
        "a=int(input())\n",
        "b=list(map(int,input().split()))\n",
        "c=list()\n",
        "for i in range(a):\n",
        "  c.append(b[i]/max(b)*100)\n",
        "print(sum(c)/a)"
      ],
      "execution_count": null,
      "outputs": [
        {
          "output_type": "stream",
          "text": [
            "4\n",
            "1 100 100 100\n",
            "100.33333333333333\n"
          ],
          "name": "stdout"
        }
      ]
    },
    {
      "cell_type": "code",
      "metadata": {
        "colab": {
          "base_uri": "https://localhost:8080/"
        },
        "id": "pRSCqH6DvkU1",
        "outputId": "d37ab323-0878-4ecd-a6ce-cbe85b4734b5"
      },
      "source": [
        "a= int(input())\n",
        "for i in range(a):\n",
        "  b=input()\n",
        "  count=0\n",
        "  c=0\n",
        "  for j in range(len((b))):\n",
        "    if b[j] == '0':\n",
        "      count+=1\n",
        "      c+=count\n",
        "    elif b[j] == 'X':\n",
        "      c+=0\n",
        "      count=0\n",
        "  print(c)\n",
        "#print(type(b))"
      ],
      "execution_count": null,
      "outputs": [
        {
          "output_type": "stream",
          "text": [
            "1\n",
            "0X0XXX000\n",
            "8\n"
          ],
          "name": "stdout"
        }
      ]
    },
    {
      "cell_type": "code",
      "metadata": {
        "colab": {
          "base_uri": "https://localhost:8080/"
        },
        "id": "b0UYJKdf7VwE",
        "outputId": "d59c7f62-008b-4756-af2a-612ba429dd7d"
      },
      "source": [
        "a= int(input())\n",
        "b=list()\n",
        "\n",
        "for i in range(a):\n",
        "  b=list(map(int,input().split()))\n",
        "  avg=sum(b[1:])/b[0]\n",
        "  #print(avg)\n",
        "  count=0\n",
        "  for j in b[1:]:\n",
        "    if j>avg:\n",
        "      count+=1\n",
        "    #print(count)\n",
        "    #e=(count/b[0]*100)\n",
        "  print(('%.3f'%(count/b[0]*100),\"%\"))"
      ],
      "execution_count": null,
      "outputs": [
        {
          "output_type": "stream",
          "text": [
            "1\n",
            "5 50 50 70 80 100\n",
            "('40.000', '%')\n"
          ],
          "name": "stdout"
        }
      ]
    },
    {
      "cell_type": "code",
      "metadata": {
        "colab": {
          "base_uri": "https://localhost:8080/"
        },
        "id": "dCtYiW2eEs67",
        "outputId": "5cea3aa6-a7cc-4830-e1a2-e7e4fda35a41"
      },
      "source": [
        "#홍과 함께라면\n",
        "# input\n",
        "import sys\n",
        "n = int(sys.stdin.readline().strip())\n",
        "\n",
        "# 식: 1 + 6 * cnt + (1 ~ 6 * cnt)\n",
        "# 조작할 것 : cnt\n",
        "\n",
        "cnt = 1\n",
        "while True:\n",
        "    if n >= 6 * cnt:\n",
        "        n -= 6 * cnt\n",
        "        print(f'new n: {n}, cnt: {cnt}')\n",
        "        cnt += 1\n",
        "    else:\n",
        "        print(f'[else] n: {n}, cnt: {cnt}')\n",
        "        print(cnt + 1)\n",
        "        break"
      ],
      "execution_count": null,
      "outputs": [
        {
          "output_type": "stream",
          "text": [
            "1\n",
            "5 50 50 70 80 100\n",
            "40.0%\n"
          ],
          "name": "stdout"
        }
      ]
    },
    {
      "cell_type": "code",
      "metadata": {
        "id": "Lu6K-So_FnhT"
      },
      "source": [
        ""
      ],
      "execution_count": null,
      "outputs": []
    }
  ]
}