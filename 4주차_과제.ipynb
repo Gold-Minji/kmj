{
  "nbformat": 4,
  "nbformat_minor": 0,
  "metadata": {
    "colab": {
      "name": "4주차_과제.ipynb",
      "provenance": [],
      "collapsed_sections": [],
      "include_colab_link": true
    },
    "kernelspec": {
      "name": "python3",
      "display_name": "Python 3"
    }
  },
  "cells": [
    {
      "cell_type": "markdown",
      "metadata": {
        "id": "view-in-github",
        "colab_type": "text"
      },
      "source": [
        "<a href=\"https://colab.research.google.com/github/Gold-Minji/kmj/blob/master/4%E1%84%8C%E1%85%AE%E1%84%8E%E1%85%A1_%E1%84%80%E1%85%AA%E1%84%8C%E1%85%A6.ipynb\" target=\"_parent\"><img src=\"https://colab.research.google.com/assets/colab-badge.svg\" alt=\"Open In Colab\"/></a>"
      ]
    },
    {
      "cell_type": "markdown",
      "metadata": {
        "id": "wxkL6PjwsI6L",
        "colab_type": "text"
      },
      "source": [
        "# 4주차 과제\n",
        "- 용어 정리\n",
        "- 딥러닝 강의 클론 코딩\n",
        "- 딥러닝 순전파 & 역전파 계산"
      ]
    },
    {
      "cell_type": "markdown",
      "metadata": {
        "id": "ixEtDe6_uGgI",
        "colab_type": "text"
      },
      "source": [
        "## 1. 용어 정리\n",
        "\n",
        "다음 제시된 단어의 정의(설명)를 정리하여 작성 하세요.\n",
        "\n",
        "* 2문장 이상 작성 해 주세요. \n",
        "* 주제(단어)와 크게 벗어나지만 않는다면 정답처리 됩니다.\n",
        "* 강의 뿐 아니라 기타 레퍼런스를 참고하여 작성하셔도 됩니다. (기타 레퍼런스를 참고하신 경우, 해당 레퍼런스를 정리하여 하단에 작성해 주세요.)\n"
      ]
    },
    {
      "cell_type": "markdown",
      "metadata": {
        "id": "0lfwat8eurKZ",
        "colab_type": "text"
      },
      "source": [
        "__(예시)__\n",
        "### 심층 신경망\n",
        ": 입력층과 출력층 사이에 여러 개의 은닉층들로 이뤄진 인공신경망이다. 심층 신경망은 일반적으로 인공신경망과 마찬가지로 복잡한 비선형 관계들을 모델링 할 수 있다. 신층신경망의 목적은 분류 및 수치예측을 하기 위함이고 이미지 트레이닝이나 문자인식과 같은 분야에서 매우 유용하게 쓰이고 있다."
      ]
    },
    {
      "cell_type": "markdown",
      "metadata": {
        "id": "Y8YJNKG_v65A",
        "colab_type": "text"
      },
      "source": [
        "### MCP 뉴런\n",
        ":맥컬록-피츠 뉴런은, 인공뉴런으로써 신경세포를 이진출력을 내는 간단한 논리 회로로 표현한 것이다. 이 모델을 기반으로 퍼셉트론 학습 개념이 나타날 수 있었다. \n",
        "\n",
        "### 퍼셉트론\n",
        ": 자동으로 최적의 가중치를 학습하는 알고리즘. 여러개의 입력을 받아서 각각의 값에 가중치를 곱한 후 모두 더한 것이 출력되는 형태의 모델이다. 초기에 단층 퍼셉트론은 단순 선형 분류기의 역할 만을 하며 인공신경망 연구의 겨울을 불러왔지만, 이를 보완하기 위해서 다층 퍼셉트론이 생겼다. 은닉층을 활용해 선형분류 판별선을 여러개 그려 그동안 해결되지 않았던 문제를 해결할 수 있었다. 하지만 이런 다층 퍼셉트론에 문제점으로는 가중치와 편향을 학습하는것이 있었는데, 이는 역전파 알고리즘을 통해 해결 하였고, 이를통해 인공지능 연구가 가속화 될 수 있었다.\n",
        "\n",
        "\n",
        "### 역전파\n",
        ": 신경망에서 많은 파라미터의 가중치를 효율적으로 찾고자 고안한 방법이다. 역방향 미분이라고도 불리며, 출력 값과 지도데이터 사이에 생기는 '오차'를 이용해, 출력층에서 입력층으로 가중치를 조정하는것이다. 하지만 역전파 기법을 사용하는데에 기울기 소멸 문제가 생길 수 있으며, 이는 ReLU라는 활성화 함수를 통해서 어느정도 해결이 가능하다.\n",
        "\n",
        "### 강화학습\n",
        ": 강화학습은 에이전트라는 존재가 환경과 상호작용하며, 보상이라는 기준을 최대화 하기위해 시행착오를 겪으며 **보상을 최대화 하는 방향으로 학습을 진행하는 것이다.** 이 보상을 최대화 하기 위해 MDP알고리즘을 사용한다. 하지만 알고리즘을 사용해도, 활용과 탐험의 적절한 분배가 필요한데 이것은 강화학습만의 독특한 어려움이다. 이 어려움을 행동가치방법과 입실론-탐욕적방법등으로 해결을 하려 하고 있다. 강화학습은 비교적 명확한 보상을 설정할 수 있는 문제를 해결하는데 사용되고 있으며, 이를 이용한 가장 유명한 예로는 이세돌 9단과의 대국에서 승리한 알파고가 있다.\n",
        "\n",
        "### 과적합\n",
        ": 분할된 노드에서 측정 분류 기준에 의해 자식 노드를 생성하고 이를 바탕으로 다시 불순도를 구하며 가지를 뻗어나가고 최종 불순도가 0에 수렴할 때까지(하나의 클래스만을 가진 노드가 될 때까지) 계속 반복 진행해 데이터가 과하게 학습을 하는것이다. 이를 해결하기 위해서 트리 최대의 깊이 제한을 두는 트리 가지치기를 한다.\n",
        "\n",
        "### 차원의 저주\n",
        ": 고정된 크기의 훈련 데이터셋 차원이 늘어남에 따라 특성 공간이 점점 희소해 지는 현상이다. 이를 피하기 위해 올바른 변수의 선택 그리고 차원 축소 기법등을 사용하면 된다.\n"
      ]
    },
    {
      "cell_type": "markdown",
      "metadata": {
        "id": "d-zfFXLCy6jD",
        "colab_type": "text"
      },
      "source": [
        "## 2. 딥러닝 강의 클론 코딩\n",
        "\n",
        "####__퍼셉트론 구조 구현하기__ \n",
        "딥러닝 강의(__딥러닝 원리[1] 3:15 ~ 5:15 부분__)를 보고 코드를 따라 치며 출력 결과를 만드세요.\n",
        " \n",
        "\n",
        "* 하나의 코드셀에 해당 코드를 한번에 다 적어서 실행해주세요 (__그렇게 하지 않을 경우, 아래 이미지와 같은 출력값이 나오지 않을 수 있습니다__)\n",
        "\n",
        "*__주의!__ 실제로 코딩해서 출력해보면 강의에 나온 출력 결과와 다르게 나옵니다!!\n"
      ]
    },
    {
      "cell_type": "markdown",
      "metadata": {
        "id": "wcc5mzI9oZ7r",
        "colab_type": "text"
      },
      "source": [
        "![대체 텍스트](https://www.notion.so/image/https%3A%2F%2Fs3-us-west-2.amazonaws.com%2Fsecure.notion-static.com%2F0cceeed0-0235-4b0f-af88-0b8c377d5b4b%2F_2020-06-09__9.35.23.png?table=block&id=88fd8912-9356-49a4-9fda-a1a63fe96ea9&width=2870&cache=v2)"
      ]
    },
    {
      "cell_type": "code",
      "metadata": {
        "id": "fEFz29B5oWqW",
        "colab_type": "code",
        "colab": {
          "base_uri": "https://localhost:8080/",
          "height": 204
        },
        "outputId": "2dd975e5-8b06-4c95-91da-5a108b361091"
      },
      "source": [
        "import tensorflow as tf\n",
        "tf.compat.v1.set_random_seed(2020) \n",
        "x=1 #입력값\n",
        "y=0 #원하는 출력값\n",
        "w=tf.random.normal([1],0,1) #가중치는 정규분포의 무작위값을 설정, 우리가 원하는 출력값을 얻기에 적합한 가중치 아님\n",
        "\n",
        "import math\n",
        "\n",
        "def sigmoid(x): #시그모이드 활성화 함수\n",
        "  return 1/(1+math.exp(-x))\n",
        "output = sigmoid(x*w)\n",
        "print(output)\n",
        "\n",
        "for i in range (1000):\n",
        "  output = sigmoid(x*w)\n",
        "  error = y-output #기대출력-실제출력\n",
        "  w=w+x*0.1*error #경사하강법, 가중치 갱신을 위해 학습률(0.1)\n",
        "\n",
        "  if i%100==99:\n",
        "    print(\"학습 횟수:\" , i , \"Error:\" , error , \"예측결과:\" , output)"
      ],
      "execution_count": 6,
      "outputs": [
        {
          "output_type": "stream",
          "text": [
            "0.47477188589261\n",
            "학습 횟수: 99 Error: -0.10010598284299604 예측결과: 0.10010598284299604\n",
            "학습 횟수: 199 Error: -0.05178399422833116 예측결과: 0.05178399422833116\n",
            "학습 횟수: 299 Error: -0.034590451977903586 예측결과: 0.034590451977903586\n",
            "학습 횟수: 399 Error: -0.02588962752851373 예측결과: 0.02588962752851373\n",
            "학습 횟수: 499 Error: -0.020658699939863617 예측결과: 0.020658699939863617\n",
            "학습 횟수: 599 Error: -0.017174253993457355 예측결과: 0.017174253993457355\n",
            "학습 횟수: 699 Error: -0.014689506449480992 예측결과: 0.014689506449480992\n",
            "학습 횟수: 799 Error: -0.012829497265431342 예측결과: 0.012829497265431342\n",
            "학습 횟수: 899 Error: -0.011385568271837804 예측결과: 0.011385568271837804\n",
            "학습 횟수: 999 Error: -0.010232493309882492 예측결과: 0.010232493309882492\n"
          ],
          "name": "stdout"
        }
      ]
    },
    {
      "cell_type": "markdown",
      "metadata": {
        "id": "kr0HVRk8fOom",
        "colab_type": "text"
      },
      "source": [
        "## 3. 딥러닝 순전파 & 역전파 계산\n",
        "\n",
        "딥러닝 강의(__딥러닝 원리[2] 0:55 ~ 4:32 부분__)에 나오는 순전파 & 역전파 계산에 대한 문제 입니다.\n",
        "\n",
        "해당 영상과 다음 이미지를 참고하여 다음 2가지 물음에 답하세요.\n",
        "\n",
        "\n",
        "(1) 학습률이 0.2 일 경우 출력층의 노드값\n",
        "\n",
        "(2) 학습률이 0.1과 0.2 중 기대출력값이 지도데이터 \"3\"과 더 가까운 학습률은?"
      ]
    },
    {
      "cell_type": "markdown",
      "metadata": {
        "id": "CpwPFWhOUzww",
        "colab_type": "text"
      },
      "source": [
        "![대체 텍스트](https://www.notion.so/image/https%3A%2F%2Fs3-us-west-2.amazonaws.com%2Fsecure.notion-static.com%2Ff54dfd45-92ec-44ae-9616-6949d2484a45%2F_2020-06-10__5.22.03.png?table=block&id=ee05da89-3ceb-4ad9-a2d3-c9f68d24d1d9&width=3580&cache=v2)"
      ]
    },
    {
      "cell_type": "markdown",
      "metadata": {
        "id": "B2OVY7w5U3CI",
        "colab_type": "text"
      },
      "source": [
        "## (1) 학습률이 0.2 일 경우 출력층의 노드값 : 1.44\n",
        "## (2) 학습률이 0.1과 0.2 중 기대출력값이 지도데이터 \"3\"과 더 가까운 학습률은? : 0.1"
      ]
    },
    {
      "cell_type": "code",
      "metadata": {
        "id": "BgavfvqiWxBU",
        "colab_type": "code",
        "colab": {}
      },
      "source": [
        ""
      ],
      "execution_count": 0,
      "outputs": []
    }
  ]
}